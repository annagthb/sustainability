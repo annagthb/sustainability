{
  "nbformat": 4,
  "nbformat_minor": 0,
  "metadata": {
    "colab": {
      "provenance": []
    },
    "kernelspec": {
      "name": "python3",
      "display_name": "Python 3"
    },
    "language_info": {
      "name": "python"
    },
    "accelerator": "GPU",
    "gpuClass": "standard"
  },
  "cells": [
    {
      "cell_type": "code",
      "execution_count": null,
      "metadata": {
        "colab": {
          "base_uri": "https://localhost:8080/"
        },
        "id": "FIDjRdInQPXb",
        "outputId": "24333847-49db-46b9-ad0c-5fdc16c14434"
      },
      "outputs": [
        {
          "output_type": "stream",
          "name": "stdout",
          "text": [
            "Looking in indexes: https://pypi.org/simple, https://us-python.pkg.dev/colab-wheels/public/simple/\n",
            "Requirement already satisfied: kaggle in /usr/local/lib/python3.7/dist-packages (1.5.12)\n",
            "Requirement already satisfied: python-slugify in /usr/local/lib/python3.7/dist-packages (from kaggle) (6.1.2)\n",
            "Requirement already satisfied: urllib3 in /usr/local/lib/python3.7/dist-packages (from kaggle) (1.24.3)\n",
            "Requirement already satisfied: certifi in /usr/local/lib/python3.7/dist-packages (from kaggle) (2022.9.24)\n",
            "Requirement already satisfied: python-dateutil in /usr/local/lib/python3.7/dist-packages (from kaggle) (2.8.2)\n",
            "Requirement already satisfied: tqdm in /usr/local/lib/python3.7/dist-packages (from kaggle) (4.64.1)\n",
            "Requirement already satisfied: six>=1.10 in /usr/local/lib/python3.7/dist-packages (from kaggle) (1.15.0)\n",
            "Requirement already satisfied: requests in /usr/local/lib/python3.7/dist-packages (from kaggle) (2.23.0)\n",
            "Requirement already satisfied: text-unidecode>=1.3 in /usr/local/lib/python3.7/dist-packages (from python-slugify->kaggle) (1.3)\n",
            "Requirement already satisfied: idna<3,>=2.5 in /usr/local/lib/python3.7/dist-packages (from requests->kaggle) (2.10)\n",
            "Requirement already satisfied: chardet<4,>=3.0.2 in /usr/local/lib/python3.7/dist-packages (from requests->kaggle) (3.0.4)\n",
            "Looking in indexes: https://pypi.org/simple, https://us-python.pkg.dev/colab-wheels/public/simple/\n",
            "Requirement already satisfied: visualkeras in /usr/local/lib/python3.7/dist-packages (0.0.2)\n",
            "Requirement already satisfied: aggdraw>=1.3.11 in /usr/local/lib/python3.7/dist-packages (from visualkeras) (1.3.15)\n",
            "Requirement already satisfied: pillow>=6.2.0 in /usr/local/lib/python3.7/dist-packages (from visualkeras) (7.1.2)\n",
            "Requirement already satisfied: numpy>=1.18.1 in /usr/local/lib/python3.7/dist-packages (from visualkeras) (1.21.6)\n"
          ]
        }
      ],
      "source": [
        "#Download of some libraries that could help us\n",
        "!pip install kaggle\n",
        "!pip install visualkeras"
      ]
    },
    {
      "cell_type": "code",
      "source": [
        "!mkdir -p ~/.kaggle"
      ],
      "metadata": {
        "id": "stMcNEg7QbPV"
      },
      "execution_count": null,
      "outputs": []
    },
    {
      "cell_type": "code",
      "source": [
        "!cp kaggle.json ~/.kaggle/"
      ],
      "metadata": {
        "id": "OLVrjnTLQfO7"
      },
      "execution_count": null,
      "outputs": []
    },
    {
      "cell_type": "code",
      "source": [
        "!chmod 600 ~/.kaggle/kaggle.json"
      ],
      "metadata": {
        "id": "qpnfndw5QofE"
      },
      "execution_count": null,
      "outputs": []
    },
    {
      "cell_type": "code",
      "source": [
        "!kaggle datasets download -d amerii/spacenet-7-multitemporal-urban-development"
      ],
      "metadata": {
        "colab": {
          "base_uri": "https://localhost:8080/"
        },
        "id": "Ok5nNSNmQsf9",
        "outputId": "974f8e15-c381-4d38-a0d1-ce5f283ba7cb"
      },
      "execution_count": null,
      "outputs": [
        {
          "output_type": "stream",
          "name": "stdout",
          "text": [
            "spacenet-7-multitemporal-urban-development.zip: Skipping, found more recently modified local copy (use --force to force download)\n"
          ]
        }
      ]
    },
    {
      "cell_type": "code",
      "source": [
        "#Checking of the zip file with the dataset in the folder we are currently in\n",
        "!ls"
      ],
      "metadata": {
        "colab": {
          "base_uri": "https://localhost:8080/"
        },
        "id": "Vyby9IeUQ29J",
        "outputId": "7cbca817-2022-45ab-857f-db8e6ec4ac1f"
      },
      "execution_count": null,
      "outputs": [
        {
          "output_type": "stream",
          "name": "stdout",
          "text": [
            "files\t     model_plot.png  spacenet-7-multitemporal-urban-development.zip\n",
            "kaggle.json  sample_data\n"
          ]
        }
      ]
    },
    {
      "cell_type": "code",
      "source": [
        "import zipfile\n",
        "\n",
        "#Decompress the dataset file\n",
        "zip_ref = zipfile.ZipFile('spacenet-7-multitemporal-urban-development.zip', 'r')\n",
        "zip_ref.extractall('files')\n",
        "zip_ref.close()"
      ],
      "metadata": {
        "id": "-ZzboRI6Q4lI",
        "colab": {
          "base_uri": "https://localhost:8080/",
          "height": 372
        },
        "outputId": "64c25b78-9add-44be-c637-d6e07eb0427a"
      },
      "execution_count": null,
      "outputs": [
        {
          "output_type": "error",
          "ename": "KeyboardInterrupt",
          "evalue": "ignored",
          "traceback": [
            "\u001b[0;31m---------------------------------------------------------------------------\u001b[0m",
            "\u001b[0;31mKeyboardInterrupt\u001b[0m                         Traceback (most recent call last)",
            "\u001b[0;32m<ipython-input-7-c75d13bfb6db>\u001b[0m in \u001b[0;36m<module>\u001b[0;34m\u001b[0m\n\u001b[1;32m      3\u001b[0m \u001b[0;31m#Decompress the dataset file\u001b[0m\u001b[0;34m\u001b[0m\u001b[0;34m\u001b[0m\u001b[0;34m\u001b[0m\u001b[0m\n\u001b[1;32m      4\u001b[0m \u001b[0mzip_ref\u001b[0m \u001b[0;34m=\u001b[0m \u001b[0mzipfile\u001b[0m\u001b[0;34m.\u001b[0m\u001b[0mZipFile\u001b[0m\u001b[0;34m(\u001b[0m\u001b[0;34m'spacenet-7-multitemporal-urban-development.zip'\u001b[0m\u001b[0;34m,\u001b[0m \u001b[0;34m'r'\u001b[0m\u001b[0;34m)\u001b[0m\u001b[0;34m\u001b[0m\u001b[0;34m\u001b[0m\u001b[0m\n\u001b[0;32m----> 5\u001b[0;31m \u001b[0mzip_ref\u001b[0m\u001b[0;34m.\u001b[0m\u001b[0mextractall\u001b[0m\u001b[0;34m(\u001b[0m\u001b[0;34m'files'\u001b[0m\u001b[0;34m)\u001b[0m\u001b[0;34m\u001b[0m\u001b[0;34m\u001b[0m\u001b[0m\n\u001b[0m\u001b[1;32m      6\u001b[0m \u001b[0mzip_ref\u001b[0m\u001b[0;34m.\u001b[0m\u001b[0mclose\u001b[0m\u001b[0;34m(\u001b[0m\u001b[0;34m)\u001b[0m\u001b[0;34m\u001b[0m\u001b[0;34m\u001b[0m\u001b[0m\n",
            "\u001b[0;32m/usr/lib/python3.7/zipfile.py\u001b[0m in \u001b[0;36mextractall\u001b[0;34m(self, path, members, pwd)\u001b[0m\n\u001b[1;32m   1634\u001b[0m \u001b[0;34m\u001b[0m\u001b[0m\n\u001b[1;32m   1635\u001b[0m         \u001b[0;32mfor\u001b[0m \u001b[0mzipinfo\u001b[0m \u001b[0;32min\u001b[0m \u001b[0mmembers\u001b[0m\u001b[0;34m:\u001b[0m\u001b[0;34m\u001b[0m\u001b[0;34m\u001b[0m\u001b[0m\n\u001b[0;32m-> 1636\u001b[0;31m             \u001b[0mself\u001b[0m\u001b[0;34m.\u001b[0m\u001b[0m_extract_member\u001b[0m\u001b[0;34m(\u001b[0m\u001b[0mzipinfo\u001b[0m\u001b[0;34m,\u001b[0m \u001b[0mpath\u001b[0m\u001b[0;34m,\u001b[0m \u001b[0mpwd\u001b[0m\u001b[0;34m)\u001b[0m\u001b[0;34m\u001b[0m\u001b[0;34m\u001b[0m\u001b[0m\n\u001b[0m\u001b[1;32m   1637\u001b[0m \u001b[0;34m\u001b[0m\u001b[0m\n\u001b[1;32m   1638\u001b[0m     \u001b[0;34m@\u001b[0m\u001b[0mclassmethod\u001b[0m\u001b[0;34m\u001b[0m\u001b[0;34m\u001b[0m\u001b[0m\n",
            "\u001b[0;32m/usr/lib/python3.7/zipfile.py\u001b[0m in \u001b[0;36m_extract_member\u001b[0;34m(self, member, targetpath, pwd)\u001b[0m\n\u001b[1;32m   1689\u001b[0m         \u001b[0;32mwith\u001b[0m \u001b[0mself\u001b[0m\u001b[0;34m.\u001b[0m\u001b[0mopen\u001b[0m\u001b[0;34m(\u001b[0m\u001b[0mmember\u001b[0m\u001b[0;34m,\u001b[0m \u001b[0mpwd\u001b[0m\u001b[0;34m=\u001b[0m\u001b[0mpwd\u001b[0m\u001b[0;34m)\u001b[0m \u001b[0;32mas\u001b[0m \u001b[0msource\u001b[0m\u001b[0;34m,\u001b[0m\u001b[0;31m \u001b[0m\u001b[0;31m\\\u001b[0m\u001b[0;34m\u001b[0m\u001b[0;34m\u001b[0m\u001b[0m\n\u001b[1;32m   1690\u001b[0m              \u001b[0mopen\u001b[0m\u001b[0;34m(\u001b[0m\u001b[0mtargetpath\u001b[0m\u001b[0;34m,\u001b[0m \u001b[0;34m\"wb\"\u001b[0m\u001b[0;34m)\u001b[0m \u001b[0;32mas\u001b[0m \u001b[0mtarget\u001b[0m\u001b[0;34m:\u001b[0m\u001b[0;34m\u001b[0m\u001b[0;34m\u001b[0m\u001b[0m\n\u001b[0;32m-> 1691\u001b[0;31m             \u001b[0mshutil\u001b[0m\u001b[0;34m.\u001b[0m\u001b[0mcopyfileobj\u001b[0m\u001b[0;34m(\u001b[0m\u001b[0msource\u001b[0m\u001b[0;34m,\u001b[0m \u001b[0mtarget\u001b[0m\u001b[0;34m)\u001b[0m\u001b[0;34m\u001b[0m\u001b[0;34m\u001b[0m\u001b[0m\n\u001b[0m\u001b[1;32m   1692\u001b[0m \u001b[0;34m\u001b[0m\u001b[0m\n\u001b[1;32m   1693\u001b[0m         \u001b[0;32mreturn\u001b[0m \u001b[0mtargetpath\u001b[0m\u001b[0;34m\u001b[0m\u001b[0;34m\u001b[0m\u001b[0m\n",
            "\u001b[0;32m/usr/lib/python3.7/shutil.py\u001b[0m in \u001b[0;36mcopyfileobj\u001b[0;34m(fsrc, fdst, length)\u001b[0m\n\u001b[1;32m     80\u001b[0m         \u001b[0;32mif\u001b[0m \u001b[0;32mnot\u001b[0m \u001b[0mbuf\u001b[0m\u001b[0;34m:\u001b[0m\u001b[0;34m\u001b[0m\u001b[0;34m\u001b[0m\u001b[0m\n\u001b[1;32m     81\u001b[0m             \u001b[0;32mbreak\u001b[0m\u001b[0;34m\u001b[0m\u001b[0;34m\u001b[0m\u001b[0m\n\u001b[0;32m---> 82\u001b[0;31m         \u001b[0mfdst\u001b[0m\u001b[0;34m.\u001b[0m\u001b[0mwrite\u001b[0m\u001b[0;34m(\u001b[0m\u001b[0mbuf\u001b[0m\u001b[0;34m)\u001b[0m\u001b[0;34m\u001b[0m\u001b[0;34m\u001b[0m\u001b[0m\n\u001b[0m\u001b[1;32m     83\u001b[0m \u001b[0;34m\u001b[0m\u001b[0m\n\u001b[1;32m     84\u001b[0m \u001b[0;32mdef\u001b[0m \u001b[0m_samefile\u001b[0m\u001b[0;34m(\u001b[0m\u001b[0msrc\u001b[0m\u001b[0;34m,\u001b[0m \u001b[0mdst\u001b[0m\u001b[0;34m)\u001b[0m\u001b[0;34m:\u001b[0m\u001b[0;34m\u001b[0m\u001b[0;34m\u001b[0m\u001b[0m\n",
            "\u001b[0;31mKeyboardInterrupt\u001b[0m: "
          ]
        }
      ]
    },
    {
      "cell_type": "code",
      "source": [
        "!pip install geopandas\n",
        "!pip install rasterio"
      ],
      "metadata": {
        "colab": {
          "base_uri": "https://localhost:8080/"
        },
        "id": "AWNVo8VFRZRX",
        "outputId": "5cc272b4-038c-4cb0-8a59-dee2a052e575"
      },
      "execution_count": null,
      "outputs": [
        {
          "output_type": "stream",
          "name": "stdout",
          "text": [
            "Looking in indexes: https://pypi.org/simple, https://us-python.pkg.dev/colab-wheels/public/simple/\n",
            "Requirement already satisfied: geopandas in /usr/local/lib/python3.7/dist-packages (0.10.2)\n",
            "Requirement already satisfied: pandas>=0.25.0 in /usr/local/lib/python3.7/dist-packages (from geopandas) (1.3.5)\n",
            "Requirement already satisfied: shapely>=1.6 in /usr/local/lib/python3.7/dist-packages (from geopandas) (1.8.5.post1)\n",
            "Requirement already satisfied: pyproj>=2.2.0 in /usr/local/lib/python3.7/dist-packages (from geopandas) (3.2.1)\n",
            "Requirement already satisfied: fiona>=1.8 in /usr/local/lib/python3.7/dist-packages (from geopandas) (1.8.22)\n",
            "Requirement already satisfied: setuptools in /usr/local/lib/python3.7/dist-packages (from fiona>=1.8->geopandas) (57.4.0)\n",
            "Requirement already satisfied: click-plugins>=1.0 in /usr/local/lib/python3.7/dist-packages (from fiona>=1.8->geopandas) (1.1.1)\n",
            "Requirement already satisfied: click>=4.0 in /usr/local/lib/python3.7/dist-packages (from fiona>=1.8->geopandas) (7.1.2)\n",
            "Requirement already satisfied: attrs>=17 in /usr/local/lib/python3.7/dist-packages (from fiona>=1.8->geopandas) (22.1.0)\n",
            "Requirement already satisfied: cligj>=0.5 in /usr/local/lib/python3.7/dist-packages (from fiona>=1.8->geopandas) (0.7.2)\n",
            "Requirement already satisfied: munch in /usr/local/lib/python3.7/dist-packages (from fiona>=1.8->geopandas) (2.5.0)\n",
            "Requirement already satisfied: six>=1.7 in /usr/local/lib/python3.7/dist-packages (from fiona>=1.8->geopandas) (1.15.0)\n",
            "Requirement already satisfied: certifi in /usr/local/lib/python3.7/dist-packages (from fiona>=1.8->geopandas) (2022.9.24)\n",
            "Requirement already satisfied: numpy>=1.17.3 in /usr/local/lib/python3.7/dist-packages (from pandas>=0.25.0->geopandas) (1.21.6)\n",
            "Requirement already satisfied: pytz>=2017.3 in /usr/local/lib/python3.7/dist-packages (from pandas>=0.25.0->geopandas) (2022.5)\n",
            "Requirement already satisfied: python-dateutil>=2.7.3 in /usr/local/lib/python3.7/dist-packages (from pandas>=0.25.0->geopandas) (2.8.2)\n",
            "Looking in indexes: https://pypi.org/simple, https://us-python.pkg.dev/colab-wheels/public/simple/\n",
            "Requirement already satisfied: rasterio in /usr/local/lib/python3.7/dist-packages (1.2.10)\n",
            "Requirement already satisfied: click>=4.0 in /usr/local/lib/python3.7/dist-packages (from rasterio) (7.1.2)\n",
            "Requirement already satisfied: numpy in /usr/local/lib/python3.7/dist-packages (from rasterio) (1.21.6)\n",
            "Requirement already satisfied: certifi in /usr/local/lib/python3.7/dist-packages (from rasterio) (2022.9.24)\n",
            "Requirement already satisfied: affine in /usr/local/lib/python3.7/dist-packages (from rasterio) (2.3.1)\n",
            "Requirement already satisfied: setuptools in /usr/local/lib/python3.7/dist-packages (from rasterio) (57.4.0)\n",
            "Requirement already satisfied: click-plugins in /usr/local/lib/python3.7/dist-packages (from rasterio) (1.1.1)\n",
            "Requirement already satisfied: cligj>=0.5 in /usr/local/lib/python3.7/dist-packages (from rasterio) (0.7.2)\n",
            "Requirement already satisfied: snuggs>=1.4.1 in /usr/local/lib/python3.7/dist-packages (from rasterio) (1.4.7)\n",
            "Requirement already satisfied: attrs in /usr/local/lib/python3.7/dist-packages (from rasterio) (22.1.0)\n",
            "Requirement already satisfied: pyparsing>=2.1.6 in /usr/local/lib/python3.7/dist-packages (from snuggs>=1.4.1->rasterio) (3.0.9)\n"
          ]
        }
      ]
    },
    {
      "cell_type": "code",
      "source": [
        "from __future__ import print_function, division\n",
        "import os\n",
        "import torch\n",
        "import pandas as pd\n",
        "from skimage import io, transform\n",
        "import numpy as np\n",
        "import matplotlib.pyplot as plt\n",
        "import matplotlib as mpl\n",
        "import rasterio as rio\n",
        "from rasterio import features\n",
        "from pathlib import Path\n",
        "import pathlib\n",
        "import geopandas as gpd\n",
        "from descartes import PolygonPatch\n",
        "from PIL import Image\n",
        "import itertools\n",
        "import re\n",
        "\n",
        "from torch.utils.data import Dataset, DataLoader\n",
        "from torchvision import transforms, utils\n",
        "\n",
        "\n",
        "# Ignore warnings\n",
        "import warnings\n",
        "warnings.filterwarnings(\"ignore\")\n",
        "\n",
        "plt.ion()   # interactive mode"
      ],
      "metadata": {
        "id": "lqb1SbMHRXQ-"
      },
      "execution_count": null,
      "outputs": []
    },
    {
      "cell_type": "code",
      "source": [
        "mpl.rcParams['figure.dpi'] = 300 #increase plot resolution\n",
        "mpl.rcParams['figure.dpi']"
      ],
      "metadata": {
        "colab": {
          "base_uri": "https://localhost:8080/"
        },
        "id": "Fba8tmJMS-RO",
        "outputId": "600ad8ec-01c9-4529-cae7-c638145e31b1"
      },
      "execution_count": null,
      "outputs": [
        {
          "output_type": "execute_result",
          "data": {
            "text/plain": [
              "300.0"
            ]
          },
          "metadata": {},
          "execution_count": 10
        }
      ]
    },
    {
      "cell_type": "code",
      "source": [
        "def rasterize_geojson(geojson_path,reference_raster_path):\n",
        "    gdf = gpd.read_file(geojson_path)\n",
        "    done=True\n",
        "    with rio.open(reference_raster_path) as raster:\n",
        "        r = raster.read(1)\n",
        "        if np.sum(r)>0:\n",
        "          mask = image = features.rasterize(((polygon, 255) for polygon in gdf['geometry']),out_shape=r.shape)\n",
        "        else:\n",
        "          mask=None\n",
        "          done=False\n",
        "        \n",
        "    return mask,done"
      ],
      "metadata": {
        "id": "lC14M2utU4YS"
      },
      "execution_count": null,
      "outputs": []
    },
    {
      "cell_type": "code",
      "source": [
        "import os\n",
        "from os import listdir\n",
        "from os.path import isfile, join\n",
        "\n",
        "TRAIN_PATH='/content/files/SN7_buildings_train/train/'\n",
        "TEST_PATH='/content/files/SN7_buildings_test_public/test_public/'\n",
        "\n",
        "#List with ids of every patient\n",
        "train_name_folders=listdir(TRAIN_PATH)\n",
        "test_name_folders=listdir(TEST_PATH)\n",
        "\n",
        "#Checking of the number of ids and list of ids\n",
        "print(len(train_name_folders))\n",
        "print(train_name_folders)\n",
        "\n",
        "print(len(test_name_folders))\n",
        "print(test_name_folders)"
      ],
      "metadata": {
        "colab": {
          "base_uri": "https://localhost:8080/"
        },
        "id": "PhGBfTcManle",
        "outputId": "65c98c05-8324-41a2-d31b-915fc72ef076"
      },
      "execution_count": null,
      "outputs": [
        {
          "output_type": "stream",
          "name": "stdout",
          "text": [
            "60\n",
            "['L15-1481E-1119N_5927_3715_13', 'L15-0924E-1108N_3699_3757_13', 'L15-1672E-1207N_6691_3363_13', 'L15-0977E-1187N_3911_3441_13', 'L15-1172E-1306N_4688_2967_13', 'L15-1669E-1153N_6678_3579_13', 'L15-1439E-1134N_5759_3655_13', 'L15-0434E-1218N_1736_3318_13', 'L15-1276E-1107N_5105_3761_13', 'L15-1617E-1207N_6468_3360_13', 'L15-0632E-0892N_2528_4620_13', 'L15-1049E-1370N_4196_2710_13', 'L15-0683E-1006N_2732_4164_13', 'L15-1298E-1322N_5193_2903_13', 'L15-1185E-0935N_4742_4450_13', 'L15-1748E-1247N_6993_3202_13', 'L15-1716E-1211N_6864_3345_13', 'L15-1703E-1219N_6813_3313_13', 'L15-0387E-1276N_1549_3087_13', 'L15-0760E-0887N_3041_4643_13', 'L15-1210E-1025N_4840_4088_13', 'L15-1389E-1284N_5557_3054_13', 'L15-1848E-0793N_7394_5018_13', 'L15-0614E-0946N_2459_4406_13', 'L15-1025E-1366N_4102_2726_13', 'L15-1691E-1211N_6764_3347_13', 'L15-1690E-1211N_6763_3346_13', 'L15-0577E-1243N_2309_3217_13', 'L15-1014E-1375N_4056_2688_13', 'L15-1204E-1202N_4816_3380_13', 'L15-0595E-1278N_2383_3079_13', 'L15-1709E-1112N_6838_3742_13', 'L15-1203E-1203N_4815_3378_13', 'L15-1438E-1134N_5753_3655_13', 'L15-1138E-1216N_4553_3325_13', 'L15-0331E-1257N_1327_3160_13', 'L15-0361E-1300N_1446_2989_13', 'L15-0358E-1220N_1433_3310_13', 'L15-1015E-1062N_4061_3941_13', 'L15-1335E-1166N_5342_3524_13', 'L15-1615E-1206N_6460_3366_13', 'L15-1669E-1160N_6679_3549_13', 'L15-0506E-1204N_2027_3374_13', 'L15-1479E-1101N_5916_3785_13', 'L15-0544E-1228N_2176_3279_13', 'L15-1209E-1113N_4838_3737_13', 'L15-1289E-1169N_5156_3514_13', 'L15-0357E-1223N_1429_3296_13', 'L15-1669E-1160N_6678_3548_13', 'L15-0586E-1127N_2345_3680_13', 'L15-0457E-1135N_1831_3648_13', 'L15-0487E-1246N_1950_3207_13', 'L15-1615E-1205N_6460_3370_13', 'L15-0571E-1075N_2287_3888_13', 'L15-0566E-1185N_2265_3451_13', 'L15-1200E-0847N_4802_4803_13', 'L15-1538E-1163N_6154_3539_13', 'L15-0368E-1245N_1474_3210_13', 'L15-1204E-1204N_4819_3372_13', 'L15-1296E-1198N_5184_3399_13']\n",
            "20\n",
            "['L15-1281E-1035N_5125_4049_13', 'L15-0391E-1219N_1567_3314_13', 'L15-1630E-0988N_6522_4239_13', 'L15-1690E-1210N_6762_3348_13', 'L15-0369E-1244N_1479_3214_13', 'L15-1670E-1159N_6681_3552_13', 'L15-1615E-1205N_6461_3368_13', 'L15-0509E-1108N_2037_3758_13', 'L15-1031E-1300N_4127_2991_13', 'L15-1749E-1266N_6997_3126_13', 'L15-1438E-1227N_5753_3282_13', 'L15-1666E-1189N_6665_3433_13', 'L15-1249E-1167N_4999_3521_13', 'L15-1129E-0819N_4517_4915_13', 'L15-0571E-1302N_2284_2983_13', 'L15-1203E-1203N_4815_3379_13', 'L15-1213E-1238N_4852_3239_13', 'L15-1546E-1154N_6186_3574_13', 'L15-0744E-0927N_2979_4481_13', 'L15-0697E-0874N_2789_4694_13']\n"
          ]
        }
      ]
    },
    {
      "cell_type": "code",
      "source": [
        "import random\n",
        "import numpy as np\n",
        "import tensorflow as tf\n",
        "\n",
        "#Seed setting for the reproducibility of the proof of concept\n",
        "def set_seed(seed):\n",
        "  random.seed(seed)\n",
        "  np.random.seed(seed)\n",
        "  tf.random.set_seed(seed)"
      ],
      "metadata": {
        "id": "thXXqR4KbORx"
      },
      "execution_count": null,
      "outputs": []
    },
    {
      "cell_type": "code",
      "source": [
        "import numpy as np\n",
        "import cv2\n",
        "import re\n",
        "\n",
        "X_train=[]   #Images list\n",
        "y_train=[]   #Masks list\n",
        "IMG_SIZE=500\n",
        "\n",
        "print('--------------DATASET DE ENTRENAMIENTO---------------')\n",
        "for index,k in enumerate(train_name_folders):\n",
        "  if index==31:\n",
        "    break\n",
        "  print(k)\n",
        "  image_names = [f for f in listdir(TRAIN_PATH+k+'/images/') if isfile(join(TRAIN_PATH+k+'/images/', f))]\n",
        "  image_names=sorted(image_names)\n",
        "  print(str(index/len(train_name_folders)*100)+'%')\n",
        "  print(str(len(image_names))+' images.\\n')\n",
        "  for i in image_names:\n",
        "    image=cv2.imread(TRAIN_PATH+k+'/images/'+i)\n",
        "    raster_path=TRAIN_PATH+k+'/images_masked/'+i\n",
        "    geojson_path=TRAIN_PATH+k+'/labels_match_pix/'+i[:-4]+'_Buildings.geojson'\n",
        "    mask,done=rasterize_geojson(geojson_path,raster_path)\n",
        "    if done:\n",
        "      X_train.append(cv2.resize(image,(IMG_SIZE, IMG_SIZE)))\n",
        "      y_train.append(((cv2.resize(mask,(IMG_SIZE, IMG_SIZE))>0)*1))\n",
        "\n",
        "  '''\n",
        "  mask_names = sorted([s for s in image_names if \"mask\" in s])\n",
        "  image_names = sorted([s for s in image_names if not \"mask\" in s])\n",
        "  mask_names.sort(key=lambda x: int(x.split('_')[4]))\n",
        "  image_names.sort(key=lambda x: int(x.split('_')[4][:-4]))\n",
        "  for img1,img2 in zip(image_names,mask_names):\n",
        "    mri_image=cv2.imread(DATASET_FOLDER_PATH+k+'/'+img1)\n",
        "    mask_image=cv2.imread(DATASET_FOLDER_PATH+k+'/'+img2)\n",
        "    if np.sum(mask_image)>0:    #PONER CONDICION\n",
        "      X_test.append(cv2.resize(mri_image,(IMG_SIZE, IMG_SIZE)))\n",
        "      y_test.append((cv2.resize(mask_image,(IMG_SIZE, IMG_SIZE))[:,:,0]>0)*1)\n",
        "  '''"
      ],
      "metadata": {
        "colab": {
          "base_uri": "https://localhost:8080/",
          "height": 1000
        },
        "id": "GJifT5NdbUsd",
        "outputId": "5df4c7b4-1ea0-45ad-ec7d-c8da78609b1c"
      },
      "execution_count": null,
      "outputs": [
        {
          "output_type": "stream",
          "name": "stdout",
          "text": [
            "--------------DATASET DE ENTRENAMIENTO---------------\n",
            "L15-1481E-1119N_5927_3715_13\n",
            "0.0%\n",
            "24 images.\n",
            "\n",
            "L15-0924E-1108N_3699_3757_13\n",
            "1.6666666666666667%\n",
            "23 images.\n",
            "\n",
            "L15-1672E-1207N_6691_3363_13\n",
            "3.3333333333333335%\n",
            "24 images.\n",
            "\n",
            "L15-0977E-1187N_3911_3441_13\n",
            "5.0%\n",
            "25 images.\n",
            "\n",
            "L15-1172E-1306N_4688_2967_13\n",
            "6.666666666666667%\n",
            "24 images.\n",
            "\n",
            "L15-1669E-1153N_6678_3579_13\n",
            "8.333333333333332%\n",
            "18 images.\n",
            "\n",
            "L15-1439E-1134N_5759_3655_13\n",
            "10.0%\n",
            "18 images.\n",
            "\n",
            "L15-0434E-1218N_1736_3318_13\n",
            "11.666666666666666%\n",
            "25 images.\n",
            "\n",
            "L15-1276E-1107N_5105_3761_13\n",
            "13.333333333333334%\n",
            "25 images.\n",
            "\n",
            "L15-1617E-1207N_6468_3360_13\n",
            "15.0%\n",
            "23 images.\n",
            "\n",
            "L15-0632E-0892N_2528_4620_13\n",
            "16.666666666666664%\n",
            "25 images.\n",
            "\n",
            "L15-1049E-1370N_4196_2710_13\n",
            "18.333333333333332%\n",
            "25 images.\n",
            "\n",
            "L15-0683E-1006N_2732_4164_13\n",
            "20.0%\n",
            "22 images.\n",
            "\n",
            "L15-1298E-1322N_5193_2903_13\n",
            "21.666666666666668%\n",
            "24 images.\n",
            "\n",
            "L15-1185E-0935N_4742_4450_13\n",
            "23.333333333333332%\n",
            "24 images.\n",
            "\n",
            "L15-1748E-1247N_6993_3202_13\n",
            "25.0%\n",
            "25 images.\n",
            "\n",
            "L15-1716E-1211N_6864_3345_13\n",
            "26.666666666666668%\n",
            "24 images.\n",
            "\n",
            "L15-1703E-1219N_6813_3313_13\n",
            "28.333333333333332%\n",
            "25 images.\n",
            "\n",
            "L15-0387E-1276N_1549_3087_13\n",
            "30.0%\n",
            "22 images.\n",
            "\n",
            "L15-0760E-0887N_3041_4643_13\n",
            "31.666666666666664%\n",
            "25 images.\n",
            "\n",
            "L15-1210E-1025N_4840_4088_13\n",
            "33.33333333333333%\n",
            "23 images.\n",
            "\n",
            "L15-1389E-1284N_5557_3054_13\n",
            "35.0%\n",
            "24 images.\n",
            "\n",
            "L15-1848E-0793N_7394_5018_13\n",
            "36.666666666666664%\n",
            "25 images.\n",
            "\n",
            "L15-0614E-0946N_2459_4406_13\n",
            "38.333333333333336%\n",
            "21 images.\n",
            "\n"
          ]
        },
        {
          "output_type": "stream",
          "name": "stderr",
          "text": [
            "ERROR:fiona._env:At line 74, character 51: Unterminated string\n",
            "ERROR:fiona._env:Failed to read GeoJSON data\n"
          ]
        },
        {
          "output_type": "error",
          "ename": "DriverError",
          "evalue": "ignored",
          "traceback": [
            "\u001b[0;31m---------------------------------------------------------------------------\u001b[0m",
            "\u001b[0;31mCPLE_OpenFailedError\u001b[0m                      Traceback (most recent call last)",
            "\u001b[0;32mfiona/_shim.pyx\u001b[0m in \u001b[0;36mfiona._shim.gdal_open_vector\u001b[0;34m()\u001b[0m\n",
            "\u001b[0;32mfiona/_err.pyx\u001b[0m in \u001b[0;36mfiona._err.exc_wrap_pointer\u001b[0;34m()\u001b[0m\n",
            "\u001b[0;31mCPLE_OpenFailedError\u001b[0m: Failed to read GeoJSON data",
            "\nDuring handling of the above exception, another exception occurred:\n",
            "\u001b[0;31mDriverError\u001b[0m                               Traceback (most recent call last)",
            "\u001b[0;32m<ipython-input-15-2816806562b3>\u001b[0m in \u001b[0;36m<module>\u001b[0;34m\u001b[0m\n\u001b[1;32m     20\u001b[0m     \u001b[0mraster_path\u001b[0m\u001b[0;34m=\u001b[0m\u001b[0mTRAIN_PATH\u001b[0m\u001b[0;34m+\u001b[0m\u001b[0mk\u001b[0m\u001b[0;34m+\u001b[0m\u001b[0;34m'/images_masked/'\u001b[0m\u001b[0;34m+\u001b[0m\u001b[0mi\u001b[0m\u001b[0;34m\u001b[0m\u001b[0;34m\u001b[0m\u001b[0m\n\u001b[1;32m     21\u001b[0m     \u001b[0mgeojson_path\u001b[0m\u001b[0;34m=\u001b[0m\u001b[0mTRAIN_PATH\u001b[0m\u001b[0;34m+\u001b[0m\u001b[0mk\u001b[0m\u001b[0;34m+\u001b[0m\u001b[0;34m'/labels_match_pix/'\u001b[0m\u001b[0;34m+\u001b[0m\u001b[0mi\u001b[0m\u001b[0;34m[\u001b[0m\u001b[0;34m:\u001b[0m\u001b[0;34m-\u001b[0m\u001b[0;36m4\u001b[0m\u001b[0;34m]\u001b[0m\u001b[0;34m+\u001b[0m\u001b[0;34m'_Buildings.geojson'\u001b[0m\u001b[0;34m\u001b[0m\u001b[0;34m\u001b[0m\u001b[0m\n\u001b[0;32m---> 22\u001b[0;31m     \u001b[0mmask\u001b[0m\u001b[0;34m,\u001b[0m\u001b[0mdone\u001b[0m\u001b[0;34m=\u001b[0m\u001b[0mrasterize_geojson\u001b[0m\u001b[0;34m(\u001b[0m\u001b[0mgeojson_path\u001b[0m\u001b[0;34m,\u001b[0m\u001b[0mraster_path\u001b[0m\u001b[0;34m)\u001b[0m\u001b[0;34m\u001b[0m\u001b[0;34m\u001b[0m\u001b[0m\n\u001b[0m\u001b[1;32m     23\u001b[0m     \u001b[0;32mif\u001b[0m \u001b[0mdone\u001b[0m\u001b[0;34m:\u001b[0m\u001b[0;34m\u001b[0m\u001b[0;34m\u001b[0m\u001b[0m\n\u001b[1;32m     24\u001b[0m       \u001b[0mX_train\u001b[0m\u001b[0;34m.\u001b[0m\u001b[0mappend\u001b[0m\u001b[0;34m(\u001b[0m\u001b[0mcv2\u001b[0m\u001b[0;34m.\u001b[0m\u001b[0mresize\u001b[0m\u001b[0;34m(\u001b[0m\u001b[0mimage\u001b[0m\u001b[0;34m,\u001b[0m\u001b[0;34m(\u001b[0m\u001b[0mIMG_SIZE\u001b[0m\u001b[0;34m,\u001b[0m \u001b[0mIMG_SIZE\u001b[0m\u001b[0;34m)\u001b[0m\u001b[0;34m)\u001b[0m\u001b[0;34m)\u001b[0m\u001b[0;34m\u001b[0m\u001b[0;34m\u001b[0m\u001b[0m\n",
            "\u001b[0;32m<ipython-input-11-b0f1c163af13>\u001b[0m in \u001b[0;36mrasterize_geojson\u001b[0;34m(geojson_path, reference_raster_path)\u001b[0m\n\u001b[1;32m      1\u001b[0m \u001b[0;32mdef\u001b[0m \u001b[0mrasterize_geojson\u001b[0m\u001b[0;34m(\u001b[0m\u001b[0mgeojson_path\u001b[0m\u001b[0;34m,\u001b[0m\u001b[0mreference_raster_path\u001b[0m\u001b[0;34m)\u001b[0m\u001b[0;34m:\u001b[0m\u001b[0;34m\u001b[0m\u001b[0;34m\u001b[0m\u001b[0m\n\u001b[0;32m----> 2\u001b[0;31m     \u001b[0mgdf\u001b[0m \u001b[0;34m=\u001b[0m \u001b[0mgpd\u001b[0m\u001b[0;34m.\u001b[0m\u001b[0mread_file\u001b[0m\u001b[0;34m(\u001b[0m\u001b[0mgeojson_path\u001b[0m\u001b[0;34m)\u001b[0m\u001b[0;34m\u001b[0m\u001b[0;34m\u001b[0m\u001b[0m\n\u001b[0m\u001b[1;32m      3\u001b[0m     \u001b[0mdone\u001b[0m\u001b[0;34m=\u001b[0m\u001b[0;32mTrue\u001b[0m\u001b[0;34m\u001b[0m\u001b[0;34m\u001b[0m\u001b[0m\n\u001b[1;32m      4\u001b[0m     \u001b[0;32mwith\u001b[0m \u001b[0mrio\u001b[0m\u001b[0;34m.\u001b[0m\u001b[0mopen\u001b[0m\u001b[0;34m(\u001b[0m\u001b[0mreference_raster_path\u001b[0m\u001b[0;34m)\u001b[0m \u001b[0;32mas\u001b[0m \u001b[0mraster\u001b[0m\u001b[0;34m:\u001b[0m\u001b[0;34m\u001b[0m\u001b[0;34m\u001b[0m\u001b[0m\n\u001b[1;32m      5\u001b[0m         \u001b[0mr\u001b[0m \u001b[0;34m=\u001b[0m \u001b[0mraster\u001b[0m\u001b[0;34m.\u001b[0m\u001b[0mread\u001b[0m\u001b[0;34m(\u001b[0m\u001b[0;36m1\u001b[0m\u001b[0;34m)\u001b[0m\u001b[0;34m\u001b[0m\u001b[0;34m\u001b[0m\u001b[0m\n",
            "\u001b[0;32m/usr/local/lib/python3.7/dist-packages/geopandas/io/file.py\u001b[0m in \u001b[0;36m_read_file\u001b[0;34m(filename, bbox, mask, rows, **kwargs)\u001b[0m\n\u001b[1;32m    199\u001b[0m \u001b[0;34m\u001b[0m\u001b[0m\n\u001b[1;32m    200\u001b[0m     \u001b[0;32mwith\u001b[0m \u001b[0mfiona_env\u001b[0m\u001b[0;34m(\u001b[0m\u001b[0;34m)\u001b[0m\u001b[0;34m:\u001b[0m\u001b[0;34m\u001b[0m\u001b[0;34m\u001b[0m\u001b[0m\n\u001b[0;32m--> 201\u001b[0;31m         \u001b[0;32mwith\u001b[0m \u001b[0mreader\u001b[0m\u001b[0;34m(\u001b[0m\u001b[0mpath_or_bytes\u001b[0m\u001b[0;34m,\u001b[0m \u001b[0;34m**\u001b[0m\u001b[0mkwargs\u001b[0m\u001b[0;34m)\u001b[0m \u001b[0;32mas\u001b[0m \u001b[0mfeatures\u001b[0m\u001b[0;34m:\u001b[0m\u001b[0;34m\u001b[0m\u001b[0;34m\u001b[0m\u001b[0m\n\u001b[0m\u001b[1;32m    202\u001b[0m \u001b[0;34m\u001b[0m\u001b[0m\n\u001b[1;32m    203\u001b[0m             \u001b[0;31m# In a future Fiona release the crs attribute of features will\u001b[0m\u001b[0;34m\u001b[0m\u001b[0;34m\u001b[0m\u001b[0;34m\u001b[0m\u001b[0m\n",
            "\u001b[0;32m/usr/local/lib/python3.7/dist-packages/fiona/env.py\u001b[0m in \u001b[0;36mwrapper\u001b[0;34m(*args, **kwargs)\u001b[0m\n\u001b[1;32m    406\u001b[0m     \u001b[0;32mdef\u001b[0m \u001b[0mwrapper\u001b[0m\u001b[0;34m(\u001b[0m\u001b[0;34m*\u001b[0m\u001b[0margs\u001b[0m\u001b[0;34m,\u001b[0m \u001b[0;34m**\u001b[0m\u001b[0mkwargs\u001b[0m\u001b[0;34m)\u001b[0m\u001b[0;34m:\u001b[0m\u001b[0;34m\u001b[0m\u001b[0;34m\u001b[0m\u001b[0m\n\u001b[1;32m    407\u001b[0m         \u001b[0;32mif\u001b[0m \u001b[0mlocal\u001b[0m\u001b[0;34m.\u001b[0m\u001b[0m_env\u001b[0m\u001b[0;34m:\u001b[0m\u001b[0;34m\u001b[0m\u001b[0;34m\u001b[0m\u001b[0m\n\u001b[0;32m--> 408\u001b[0;31m             \u001b[0;32mreturn\u001b[0m \u001b[0mf\u001b[0m\u001b[0;34m(\u001b[0m\u001b[0;34m*\u001b[0m\u001b[0margs\u001b[0m\u001b[0;34m,\u001b[0m \u001b[0;34m**\u001b[0m\u001b[0mkwargs\u001b[0m\u001b[0;34m)\u001b[0m\u001b[0;34m\u001b[0m\u001b[0;34m\u001b[0m\u001b[0m\n\u001b[0m\u001b[1;32m    409\u001b[0m         \u001b[0;32melse\u001b[0m\u001b[0;34m:\u001b[0m\u001b[0;34m\u001b[0m\u001b[0;34m\u001b[0m\u001b[0m\n\u001b[1;32m    410\u001b[0m             \u001b[0;32mif\u001b[0m \u001b[0misinstance\u001b[0m\u001b[0;34m(\u001b[0m\u001b[0margs\u001b[0m\u001b[0;34m[\u001b[0m\u001b[0;36m0\u001b[0m\u001b[0;34m]\u001b[0m\u001b[0;34m,\u001b[0m \u001b[0mstr\u001b[0m\u001b[0;34m)\u001b[0m\u001b[0;34m:\u001b[0m\u001b[0;34m\u001b[0m\u001b[0;34m\u001b[0m\u001b[0m\n",
            "\u001b[0;32m/usr/local/lib/python3.7/dist-packages/fiona/__init__.py\u001b[0m in \u001b[0;36mopen\u001b[0;34m(fp, mode, driver, schema, crs, encoding, layer, vfs, enabled_drivers, crs_wkt, **kwargs)\u001b[0m\n\u001b[1;32m    263\u001b[0m         \u001b[0;32mif\u001b[0m \u001b[0mmode\u001b[0m \u001b[0;32min\u001b[0m \u001b[0;34m(\u001b[0m\u001b[0;34m'a'\u001b[0m\u001b[0;34m,\u001b[0m \u001b[0;34m'r'\u001b[0m\u001b[0;34m)\u001b[0m\u001b[0;34m:\u001b[0m\u001b[0;34m\u001b[0m\u001b[0;34m\u001b[0m\u001b[0m\n\u001b[1;32m    264\u001b[0m             c = Collection(path, mode, driver=driver, encoding=encoding,\n\u001b[0;32m--> 265\u001b[0;31m                            layer=layer, enabled_drivers=enabled_drivers, **kwargs)\n\u001b[0m\u001b[1;32m    266\u001b[0m         \u001b[0;32melif\u001b[0m \u001b[0mmode\u001b[0m \u001b[0;34m==\u001b[0m \u001b[0;34m'w'\u001b[0m\u001b[0;34m:\u001b[0m\u001b[0;34m\u001b[0m\u001b[0;34m\u001b[0m\u001b[0m\n\u001b[1;32m    267\u001b[0m             \u001b[0;32mif\u001b[0m \u001b[0mschema\u001b[0m\u001b[0;34m:\u001b[0m\u001b[0;34m\u001b[0m\u001b[0;34m\u001b[0m\u001b[0m\n",
            "\u001b[0;32m/usr/local/lib/python3.7/dist-packages/fiona/collection.py\u001b[0m in \u001b[0;36m__init__\u001b[0;34m(self, path, mode, driver, schema, crs, encoding, layer, vsi, archive, enabled_drivers, crs_wkt, ignore_fields, ignore_geometry, **kwargs)\u001b[0m\n\u001b[1;32m    160\u001b[0m             \u001b[0;32mif\u001b[0m \u001b[0mself\u001b[0m\u001b[0;34m.\u001b[0m\u001b[0mmode\u001b[0m \u001b[0;34m==\u001b[0m \u001b[0;34m'r'\u001b[0m\u001b[0;34m:\u001b[0m\u001b[0;34m\u001b[0m\u001b[0;34m\u001b[0m\u001b[0m\n\u001b[1;32m    161\u001b[0m                 \u001b[0mself\u001b[0m\u001b[0;34m.\u001b[0m\u001b[0msession\u001b[0m \u001b[0;34m=\u001b[0m \u001b[0mSession\u001b[0m\u001b[0;34m(\u001b[0m\u001b[0;34m)\u001b[0m\u001b[0;34m\u001b[0m\u001b[0;34m\u001b[0m\u001b[0m\n\u001b[0;32m--> 162\u001b[0;31m                 \u001b[0mself\u001b[0m\u001b[0;34m.\u001b[0m\u001b[0msession\u001b[0m\u001b[0;34m.\u001b[0m\u001b[0mstart\u001b[0m\u001b[0;34m(\u001b[0m\u001b[0mself\u001b[0m\u001b[0;34m,\u001b[0m \u001b[0;34m**\u001b[0m\u001b[0mkwargs\u001b[0m\u001b[0;34m)\u001b[0m\u001b[0;34m\u001b[0m\u001b[0;34m\u001b[0m\u001b[0m\n\u001b[0m\u001b[1;32m    163\u001b[0m             \u001b[0;32melif\u001b[0m \u001b[0mself\u001b[0m\u001b[0;34m.\u001b[0m\u001b[0mmode\u001b[0m \u001b[0;32min\u001b[0m \u001b[0;34m(\u001b[0m\u001b[0;34m'a'\u001b[0m\u001b[0;34m,\u001b[0m \u001b[0;34m'w'\u001b[0m\u001b[0;34m)\u001b[0m\u001b[0;34m:\u001b[0m\u001b[0;34m\u001b[0m\u001b[0;34m\u001b[0m\u001b[0m\n\u001b[1;32m    164\u001b[0m                 \u001b[0mself\u001b[0m\u001b[0;34m.\u001b[0m\u001b[0msession\u001b[0m \u001b[0;34m=\u001b[0m \u001b[0mWritingSession\u001b[0m\u001b[0;34m(\u001b[0m\u001b[0;34m)\u001b[0m\u001b[0;34m\u001b[0m\u001b[0;34m\u001b[0m\u001b[0m\n",
            "\u001b[0;32mfiona/ogrext.pyx\u001b[0m in \u001b[0;36mfiona.ogrext.Session.start\u001b[0;34m()\u001b[0m\n",
            "\u001b[0;32mfiona/_shim.pyx\u001b[0m in \u001b[0;36mfiona._shim.gdal_open_vector\u001b[0;34m()\u001b[0m\n",
            "\u001b[0;31mDriverError\u001b[0m: Failed to read GeoJSON data"
          ]
        }
      ]
    },
    {
      "cell_type": "code",
      "source": [
        "X_test=[]\n",
        "y_test=[]\n",
        "\n",
        "print('\\n--------------DATASET DE TEST---------------')\n",
        "for index,k in enumerate(test_name_folders):\n",
        "  print(k)\n",
        "  image_names = [f for f in listdir(TEST_PATH+k+'/images_masked/') if isfile(join(TEST_PATH+k+'/images_masked/', f))]\n",
        "  image_names=sorted(image_names)\n",
        "  print(str(index/len(train_name_folders)*100)+'%')\n",
        "  print(str(len(image_names))+' images.\\n')\n",
        "  for i in image_names:\n",
        "    image=cv2.imread(TEST_PATH+k+'/images/'+i)\n",
        "    if not np.shape(image)==():\n",
        "      #X_test.append(cv2.resize(image,(IMG_SIZE, IMG_SIZE)))"
      ],
      "metadata": {
        "id": "HfGOh3mH7NfZ"
      },
      "execution_count": null,
      "outputs": []
    },
    {
      "cell_type": "code",
      "source": [
        "def two_plot(img1,img2):\n",
        "  fig, (ax1, ax2) = plt.subplots(1, 2)\n",
        "  ax1.imshow(img1)\n",
        "  ax2.imshow(img2)\n",
        "  plt.show()"
      ],
      "metadata": {
        "id": "yKoDesFrrv60"
      },
      "execution_count": null,
      "outputs": []
    },
    {
      "cell_type": "code",
      "source": [
        "for ind in range(0,60):\n",
        "  two_plot(X_train[ind],y_train[ind])"
      ],
      "metadata": {
        "id": "4LpDOAvs7XvH"
      },
      "execution_count": null,
      "outputs": []
    },
    {
      "cell_type": "markdown",
      "source": [
        "#Training"
      ],
      "metadata": {
        "id": "2_g6PgdGEqST"
      }
    },
    {
      "cell_type": "code",
      "source": [
        "import tensorflow as tf\n",
        "import keras\n",
        "\n",
        "IMG_WIDTH = 128\n",
        "IMG_HEIGHT = 128\n",
        "IMG_CHANNELS = 3\n",
        "init='he_normal'\n",
        "act='relu'    #tf.keras.layers.LeakyReLU()\n",
        "\n",
        "def unet_model(IMG_HEIGHT, IMG_WIDTH, IMG_CHANNELS,init,act):\n",
        "  #Build the model\n",
        "  inputs = tf.keras.layers.Input((IMG_HEIGHT, IMG_WIDTH, IMG_CHANNELS))\n",
        "  s = tf.keras.layers.Lambda(lambda x: x / 255)(inputs)\n",
        "\n",
        "  #Contraction path\n",
        "  c1 = tf.keras.layers.Conv2D(16, (3, 3), activation=act, kernel_initializer=init, padding='same')(s)\n",
        "  c1 = tf.keras.layers.Dropout(0.2)(c1)\n",
        "  c1 = tf.keras.layers.Conv2D(16, (3, 3), activation=act, kernel_initializer=init, padding='same')(c1)\n",
        "  p1 = tf.keras.layers.MaxPooling2D((2, 2))(c1)\n",
        "\n",
        "  c2 = tf.keras.layers.Conv2D(32, (3, 3), activation=act, kernel_initializer=init, padding='same')(p1)\n",
        "  c2 = tf.keras.layers.Dropout(0.2)(c2)\n",
        "  c2 = tf.keras.layers.Conv2D(32, (3, 3), activation=act, kernel_initializer=init, padding='same')(c2)\n",
        "  p2 = tf.keras.layers.MaxPooling2D((2, 2))(c2)\n",
        "  \n",
        "  c3 = tf.keras.layers.Conv2D(64, (3, 3), activation=act, kernel_initializer=init, padding='same')(p2)\n",
        "  c3 = tf.keras.layers.Dropout(0.2)(c3)\n",
        "  c3 = tf.keras.layers.Conv2D(64, (3, 3), activation=act, kernel_initializer=init, padding='same')(c3)\n",
        "  p3 = tf.keras.layers.MaxPooling2D((2, 2))(c3)\n",
        "  \n",
        "  c4 = tf.keras.layers.Conv2D(128, (3, 3), activation=act, kernel_initializer=init, padding='same')(p3)\n",
        "  c4 = tf.keras.layers.Dropout(0.2)(c4)\n",
        "  c4 = tf.keras.layers.Conv2D(128, (3, 3), activation=act, kernel_initializer=init, padding='same')(c4)\n",
        "  p4 = tf.keras.layers.MaxPooling2D(pool_size=(2, 2))(c4)\n",
        "  \n",
        "  c5 = tf.keras.layers.Conv2D(256, (3, 3), activation=act, kernel_initializer=init, padding='same')(p4)\n",
        "  c5 = tf.keras.layers.Dropout(0.3)(c5)\n",
        "  c5 = tf.keras.layers.Conv2D(256, (3, 3), activation=act, kernel_initializer=init, padding='same')(c5)\n",
        "\n",
        "  #Expansive path \n",
        "  u6 = tf.keras.layers.Conv2DTranspose(128, (2, 2), strides=(2, 2), padding='same')(c5)\n",
        "  u6 = tf.keras.layers.concatenate([u6, c4])\n",
        "  c6 = tf.keras.layers.Conv2D(128, (3, 3), activation=act, kernel_initializer=init, padding='same')(u6)\n",
        "  c6 = tf.keras.layers.Dropout(0.2)(c6)\n",
        "  c6 = tf.keras.layers.Conv2D(128, (3, 3), activation=act, kernel_initializer=init, padding='same')(c6)\n",
        "  \n",
        "  u7 = tf.keras.layers.Conv2DTranspose(64, (2, 2), strides=(2, 2), padding='same')(c6)\n",
        "  u7 = tf.keras.layers.concatenate([u7, c3])\n",
        "  c7 = tf.keras.layers.Conv2D(64, (3, 3), activation=act, kernel_initializer=init, padding='same')(u7)\n",
        "  c7 = tf.keras.layers.Dropout(0.2)(c7)\n",
        "  c7 = tf.keras.layers.Conv2D(64, (3, 3), activation=act, kernel_initializer=init, padding='same')(c7)\n",
        "  \n",
        "  u8 = tf.keras.layers.Conv2DTranspose(32, (2, 2), strides=(2, 2), padding='same')(c7)\n",
        "  u8 = tf.keras.layers.concatenate([u8, c2])\n",
        "  c8 = tf.keras.layers.Conv2D(32, (3, 3), activation=act, kernel_initializer=init, padding='same')(u8)\n",
        "  c8 = tf.keras.layers.Dropout(0.2)(c8)\n",
        "  c8 = tf.keras.layers.Conv2D(32, (3, 3), activation=act, kernel_initializer=init, padding='same')(c8)\n",
        "  \n",
        "  u9 = tf.keras.layers.Conv2DTranspose(16, (2, 2), strides=(2, 2), padding='same')(c8)\n",
        "  u9 = tf.keras.layers.concatenate([u9, c1], axis=3)\n",
        "  c9 = tf.keras.layers.Conv2D(16, (3, 3), activation=act, kernel_initializer=init, padding='same')(u9)\n",
        "  c9 = tf.keras.layers.Dropout(0.2)(c9)\n",
        "  c9 = tf.keras.layers.Conv2D(16, (3, 3), activation=act, kernel_initializer=init, padding='same')(c9)\n",
        "  \n",
        "  outputs = tf.keras.layers.Conv2D(1, (1, 1), activation='sigmoid')(c9)\n",
        "  \n",
        "  model = tf.keras.Model(inputs=[inputs], outputs=[outputs])\n",
        "  return model\n",
        "\n",
        "model=unet_model(IMG_HEIGHT, IMG_WIDTH, IMG_CHANNELS,init,act)"
      ],
      "metadata": {
        "id": "d3TF5PmZEsgy"
      },
      "execution_count": null,
      "outputs": []
    },
    {
      "cell_type": "code",
      "source": [
        "#Plotting of the architecture of our model\n",
        "keras.utils.vis_utils.plot_model(model, to_file='model_plot.png', show_shapes=True, show_layer_names=False)"
      ],
      "metadata": {
        "id": "5fC6ecSAFMnc"
      },
      "execution_count": null,
      "outputs": []
    },
    {
      "cell_type": "code",
      "source": [
        "import visualkeras\n",
        "\n",
        "#Visualization of a diagram of the architecture of the model\n",
        "visualkeras.layered_view(model, scale_xy=4, scale_z=0.5, legend=True,max_xy=1000, max_z=1000)"
      ],
      "metadata": {
        "id": "D-m8OxZeFQVG"
      },
      "execution_count": null,
      "outputs": []
    },
    {
      "cell_type": "code",
      "source": [
        "from keras import backend as K\n",
        "\n",
        "#Function in which the Jaccard metric is defined\n",
        "def jacard_coef(y_true, y_pred):\n",
        "    y_true_f = K.flatten(y_true)\n",
        "    y_pred_f = K.flatten(y_pred)\n",
        "    intersection = K.sum(y_true_f * y_pred_f)\n",
        "    return (intersection + 1.0) / (K.sum(y_true_f) + K.sum(y_pred_f) - intersection + 1.0)\n",
        "\n",
        "\n",
        "def jacard_coef_loss(y_true, y_pred):\n",
        "    return -jacard_coef(y_true, y_pred)  # -1 ultiplied as we want to minimize this value as loss function"
      ],
      "metadata": {
        "id": "Ali9ciqjFWlI"
      },
      "execution_count": null,
      "outputs": []
    },
    {
      "cell_type": "code",
      "source": [
        "#Now, we set the model's loss with the Jaccard metric \n",
        "set_seed(0)\n",
        "model=unet_model(IMG_HEIGHT, IMG_WIDTH, IMG_CHANNELS,init,act=tf.keras.layers.LeakyReLU(alpha=0.1))\n",
        "model.compile(optimizer = 'adam', loss = [jacard_coef_loss], metrics = [jacard_coef,'accuracy',])"
      ],
      "metadata": {
        "id": "bHZk5K9YFZ9h"
      },
      "execution_count": null,
      "outputs": []
    },
    {
      "cell_type": "code",
      "source": [
        "import numpy as np\n",
        "\n",
        "#Arrays in float64 for the traing of the model with the Jaccard loss\n",
        "X_train=np.array(X_train).astype('float64')\n",
        "y_train=np.array(y_train).astype('float64')"
      ],
      "metadata": {
        "id": "cvCt7KV-FbgF"
      },
      "execution_count": null,
      "outputs": []
    },
    {
      "cell_type": "code",
      "source": [
        "#Training of the model\n",
        "callbacks = [tf.keras.callbacks.EarlyStopping(patience=20, monitor='val_jacard_coef',mode='max'),tf.keras.callbacks.TensorBoard(log_dir='logs')]\n",
        "\n",
        "results_2 = model.fit(np.array(X_train), np.array(y_train), validation_split=0.1, batch_size=16, epochs=200, callbacks=callbacks)"
      ],
      "metadata": {
        "id": "3ByuHXE2FpP6"
      },
      "execution_count": null,
      "outputs": []
    },
    {
      "cell_type": "code",
      "source": [
        "#Display of the accuracy of the model over the training epochs\n",
        "plt.plot(results_2.history['accuracy'],label='accuracy')\n",
        "plt.plot(results_2.history['val_accuracy'],label='val_accuracy')\n",
        "\n",
        "plt.xlabel('Epochs')\n",
        "plt.ylabel('Accuracy')\n",
        "plt.legend()\n",
        "plt.grid()\n",
        "plt.show()"
      ],
      "metadata": {
        "id": "K_Loq2gFFsDO"
      },
      "execution_count": null,
      "outputs": []
    },
    {
      "cell_type": "code",
      "source": [
        "#Display of the Jaccard coeficient of the model over the training epochs\n",
        "plt.plot(results_2.history['jacard_coef'],label='jacard_coef')\n",
        "plt.plot(results_2.history['val_jacard_coef'],label='val_jacard_coef')\n",
        "\n",
        "plt.xlabel('Epochs')\n",
        "plt.ylabel('Jacard_coef')\n",
        "plt.legend()\n",
        "plt.grid()\n",
        "plt.show()"
      ],
      "metadata": {
        "id": "m9Fu7IRPFuPX"
      },
      "execution_count": null,
      "outputs": []
    },
    {
      "cell_type": "code",
      "source": [
        "#Display of the loss of the model over the training epochs\n",
        "plt.plot(results_2.history['loss'],label='loss')\n",
        "plt.plot(results_2.history['val_loss'],label='val_loss')\n",
        "\n",
        "plt.xlabel('Epochs')\n",
        "plt.ylabel('Loss')\n",
        "plt.legend()\n",
        "plt.grid()\n",
        "plt.show()"
      ],
      "metadata": {
        "id": "Ix6HmNGIFvCx"
      },
      "execution_count": null,
      "outputs": []
    }
  ]
}